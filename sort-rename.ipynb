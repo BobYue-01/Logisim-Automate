{
 "cells": [
  {
   "cell_type": "code",
   "execution_count": 18,
   "metadata": {},
   "outputs": [],
   "source": [
    "import sys\n",
    "import xml.etree.ElementTree as ET\n"
   ]
  },
  {
   "cell_type": "markdown",
   "metadata": {},
   "source": [
    "将下面的 `file_dir` 的值改为你的文件相对路径"
   ]
  },
  {
   "cell_type": "code",
   "execution_count": 19,
   "metadata": {},
   "outputs": [],
   "source": [
    "file_dir = './sample.circ'\n"
   ]
  },
  {
   "attachments": {},
   "cell_type": "markdown",
   "metadata": {},
   "source": [
    "由于 Logisim 保存的文件中的元素的顺序是不确定的，所以在自动化重命名之前需要进行排序。\n",
    "\n",
    "此处以 `name` 为主要关键字，`loc` 的 y, x 轴坐标为次要关键字。\n",
    "\n",
    "即意味着，首先按元素的分类排序；对于同类的元素，以行为单位进行排序，同一行中，以列为单位进行排序。\n"
   ]
  },
  {
   "cell_type": "code",
   "execution_count": 20,
   "metadata": {},
   "outputs": [],
   "source": [
    "def sort_comp(elem):\n",
    "\tloc = elem.get('loc')\n",
    "\tif loc is None:\n",
    "\t\t# no location, sort by name\n",
    "\t\treturn (elem.get('name') or \"\"), 0, 0\n",
    "\t# loc: str '(x, y)'\n",
    "\t# turn loc to tuple\n",
    "\tloc = tuple(map(int, loc[1:-1].split(',')))\n",
    "\t# sort by y, then x\n",
    "\treturn (elem.get('name') or \"\"), loc[1], loc[0]\n"
   ]
  },
  {
   "cell_type": "markdown",
   "metadata": {},
   "source": [
    "读入文件，解析为 ElementTree 对象，然后对根节点的子节点进行排序，最后输出到文件 `sorted.circ`。\n"
   ]
  },
  {
   "cell_type": "code",
   "execution_count": 21,
   "metadata": {},
   "outputs": [],
   "source": [
    "# sort sequence XML `comp` items in `project\\circuit\\` by type and tags; no need to print them.\n",
    "tree = ET.parse(file_dir)\n",
    "root = tree.getroot()\n",
    "for circuit in root.findall('circuit'):\n",
    "\t# sort thier sequence by name\n",
    "\tsorted_circuit = sorted(circuit, key = sort_comp)\n",
    "\t# trun the list into a ET\n",
    "\tnew_circuit = ET.Element('circuit', attrib=circuit.attrib)\n",
    "\tfor element in sorted_circuit:\n",
    "\t\tnew_element = ET.SubElement(new_circuit, element.tag, attrib=element.attrib)\n",
    "\t\tfor subelement in element:\n",
    "\t\t\tET.SubElement(new_element, subelement.tag, attrib=subelement.attrib).text = subelement.text\n",
    "\t\t\tfor subsubelement in subelement:\n",
    "\t\t\t\tET.SubElement(subelement, subsubelement.tag, attrib=elemesubsubelementnt.attrib).text = subsubelement.text\n",
    "\troot.remove(circuit)\n",
    "\troot.append(new_circuit)\n",
    "# write the sorted tree to a new file\n",
    "tree.write('./sorted.circ')\n"
   ]
  },
  {
   "attachments": {},
   "cell_type": "markdown",
   "metadata": {},
   "source": [
    "以下的代码要求待重命名的元素具有 `o_00` 的标签。\n"
   ]
  },
  {
   "cell_type": "code",
   "execution_count": 22,
   "metadata": {},
   "outputs": [
    {
     "data": {
      "text/plain": [
       "44341"
      ]
     },
     "execution_count": 22,
     "metadata": {},
     "output_type": "execute_result"
    }
   ],
   "source": [
    "# 按普通文本读取 '.\\sorted.circ'，并另存为 '.\\renamed.circ'\n",
    "\n",
    "read_file = open('./sorted.circ', 'r')\n",
    "new_file = open('./renamed.circ', 'w')\n",
    "content = read_file.read()\n",
    "\n",
    "# 递增重命名 'o_00' 为 'o_00' 到 'o_31'\n",
    "\n",
    "content = content.replace('_00', '_$$')\n",
    "\n",
    "i = 0\n",
    "while i < 32:\n",
    "\tcontent = content.replace('o_$$', 'o_' + str(i).zfill(2), 1)\n",
    "\ti += 1\n",
    "\n",
    "i = 0\n",
    "while i < 32:\n",
    "\tcontent = content.replace('o_$$', 'o_' + str(i).zfill(2), 1)\n",
    "\ti += 1\n",
    "\n",
    "i = 0\n",
    "while i < 32:\n",
    "\tcontent = content.replace('i_$$', 'i_' + str(i).zfill(2), 1)\n",
    "\ti += 1\n",
    "\n",
    "new_file.write(content)"
   ]
  },
  {
   "cell_type": "code",
   "execution_count": 23,
   "metadata": {},
   "outputs": [],
   "source": [
    "read_file.close()\n",
    "new_file.close()\n"
   ]
  }
 ],
 "metadata": {
  "kernelspec": {
   "display_name": "base",
   "language": "python",
   "name": "python3"
  },
  "language_info": {
   "codemirror_mode": {
    "name": "ipython",
    "version": 3
   },
   "file_extension": ".py",
   "mimetype": "text/x-python",
   "name": "python",
   "nbconvert_exporter": "python",
   "pygments_lexer": "ipython3",
   "version": "3.10.10"
  },
  "orig_nbformat": 4
 },
 "nbformat": 4,
 "nbformat_minor": 2
}
